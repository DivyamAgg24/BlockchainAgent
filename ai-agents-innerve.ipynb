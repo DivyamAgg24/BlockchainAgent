{
 "cells": [
  {
   "cell_type": "code",
   "execution_count": 4,
   "metadata": {
    "execution": {
     "iopub.execute_input": "2025-01-22T05:55:02.169677Z",
     "iopub.status.busy": "2025-01-22T05:55:02.169299Z",
     "iopub.status.idle": "2025-01-22T05:55:02.174515Z",
     "shell.execute_reply": "2025-01-22T05:55:02.173260Z",
     "shell.execute_reply.started": "2025-01-22T05:55:02.169645Z"
    },
    "trusted": true
   },
   "outputs": [],
   "source": [
    "import warnings\n",
    "warnings.filterwarnings('ignore')"
   ]
  },
  {
   "cell_type": "code",
   "execution_count": 59,
   "metadata": {
    "execution": {
     "iopub.execute_input": "2025-01-22T06:08:11.383654Z",
     "iopub.status.busy": "2025-01-22T06:08:11.383111Z",
     "iopub.status.idle": "2025-01-22T06:08:11.390069Z",
     "shell.execute_reply": "2025-01-22T06:08:11.388721Z",
     "shell.execute_reply.started": "2025-01-22T06:08:11.383604Z"
    },
    "trusted": true
   },
   "outputs": [],
   "source": [
    "import os\n",
    "from dotenv import load_dotenv\n",
    "load_dotenv()\n",
    "\n",
    "GEMINI_API_KEY = os.getenv(\"GEMINI_API_KEY\")\n",
    "OPENAI_API_KEY = os.getenv(\"OPENAI_API_KEY\")"
   ]
  },
  {
   "cell_type": "code",
   "execution_count": 26,
   "metadata": {
    "execution": {
     "iopub.execute_input": "2025-01-22T05:58:40.697886Z",
     "iopub.status.busy": "2025-01-22T05:58:40.697503Z",
     "iopub.status.idle": "2025-01-22T05:58:40.702885Z",
     "shell.execute_reply": "2025-01-22T05:58:40.701624Z",
     "shell.execute_reply.started": "2025-01-22T05:58:40.697858Z"
    },
    "trusted": true
   },
   "outputs": [],
   "source": [
    "from crewai import LLM\n",
    "gemini_llm = LLM(\n",
    "    model=\"gemini/gemini-1.5-flash\",\n",
    "    api_key=GEMINI_API_KEY,\n",
    "    temperature=0,\n",
    ")"
   ]
  },
  {
   "cell_type": "code",
   "execution_count": 6,
   "metadata": {
    "execution": {
     "iopub.execute_input": "2025-01-22T05:55:11.541466Z",
     "iopub.status.busy": "2025-01-22T05:55:11.541063Z",
     "iopub.status.idle": "2025-01-22T05:55:18.070690Z",
     "shell.execute_reply": "2025-01-22T05:55:18.069511Z",
     "shell.execute_reply.started": "2025-01-22T05:55:11.541436Z"
    },
    "trusted": true
   },
   "outputs": [
    {
     "name": "stdout",
     "output_type": "stream",
     "text": [
      "{'jsonrpc': '2.0', 'result': {'context': {'apiVersion': '2.1.8', 'slot': 355795616}, 'value': {'data': ['AgAAAL4zkcMPRYarxgednZ3r504XyexzY/JuY/2bbqm+blYz', 'base64'], 'executable': True, 'lamports': 1141440, 'owner': 'BPFLoaderUpgradeab1e11111111111111111111111', 'rentEpoch': 18446744073709551615, 'space': 36}}, 'id': 1}\n"
     ]
    }
   ],
   "source": [
    "from crewai.tools.structured_tool import CrewStructuredTool\n",
    "from pydantic import BaseModel\n",
    "import requests\n",
    "\n",
    "class APICallInput(BaseModel):\n",
    "    data: dict\n",
    "\n",
    "# Wrapper function to execute the API call\n",
    "def tool_wrapper(*args, **kwargs):\n",
    "    url = \"https://solana-devnet.g.alchemy.com/v2/jK9f7FhUJarWMR9nozOhvCKB1Qdj3VYS\"\n",
    "    \n",
    "    try:\n",
    "        response = requests.post(url, json=kwargs[\"data\"])\n",
    "\n",
    "        if response.status_code == 200:\n",
    "            return response.json()\n",
    "        else:\n",
    "            print('Error:', response.status_code)\n",
    "            return None\n",
    "    except requests.exceptions.RequestException as e:\n",
    "        print('Error:', e)\n",
    "        return None\n",
    "\n",
    "# Create and return the structured tool\n",
    "def create_structured_tool():\n",
    "    return CrewStructuredTool.from_function(\n",
    "        name='Wrapper API',\n",
    "        description=\"A tool to wrap API calls with structured input.\",\n",
    "        args_schema=APICallInput,\n",
    "        func=tool_wrapper,\n",
    "    )\n",
    "\n",
    "# Example usage\n",
    "structured_tool = create_structured_tool()\n",
    "\n",
    "# Execute the tool with structured input\n",
    "result = structured_tool._run(**{\n",
    "    \"data\": {\"jsonrpc\":\"2.0\", \"id\":1, \"method\":\"getAccountInfo\", \"params\":[\"TokenzQdBNbLqP5VEhdkAS6EPFLC1PHnBqCXEpPxuEb\", {\"encoding\":\"base64\"}]}\n",
    "})\n",
    "print(result)"
   ]
  },
  {
   "cell_type": "code",
   "execution_count": 78,
   "metadata": {
    "execution": {
     "iopub.execute_input": "2025-01-22T06:10:16.305343Z",
     "iopub.status.busy": "2025-01-22T06:10:16.304920Z",
     "iopub.status.idle": "2025-01-22T06:10:16.316295Z",
     "shell.execute_reply": "2025-01-22T06:10:16.315262Z",
     "shell.execute_reply.started": "2025-01-22T06:10:16.305308Z"
    },
    "trusted": true
   },
   "outputs": [
    {
     "name": "stdout",
     "output_type": "stream",
     "text": [
      "LLM value is already an LLM object\n"
     ]
    }
   ],
   "source": [
    "from crewai import Agent, Task, Crew, Process, LLM\n",
    "class FirstAgentOutput(BaseModel):\n",
    "    task: str\n",
    "    data: dict\n",
    "\n",
    "task_define = Agent(\n",
    "    role='Task Definer and Populator',\n",
    "    goal='Act as a conversational agent. Process the user input and tell which task is needed to be performed after identifying if the input provided is an address, signature, amount, programId or a message. Also populate the field in curly brackets in params of the correct task in {task_params_map}.'\n",
    "        'If the user is just conversing and there is no task to be performed, answer the user like a human and dont mention that this is a conversational query, just answer the user'\n",
    "         'In case of an input error, clearly define the error and output it'\n",
    "         'Take into consideration {memory} while answering as well',\n",
    "    backstory='You are an expert conversation agent capable of retaining memory'\n",
    "    'Have knowledge about all the tasks that can be requested by the user'\n",
    "    'In case of airdrop task, replace the amount in the amount field as integer'\n",
    "    \"Able to identify the right task needed to be performed given the user query.\",\n",
    "    verbose=True,\n",
    "    memory = True,\n",
    "    llm = gemini_llm\n",
    "    \n",
    ")\n",
    "\n",
    "get_task = Task(\n",
    "    description='Identify the task needed to be performed in {text}. Return getAccountInfo is the user wants to send SOL to someone.'\n",
    "                'If the user is just conversing and there is no task to be performed, converse with the user like a human and take into consideration {memory} as well ',\n",
    "    expected_output='Give me the name of the task from getAccountInfo, getContractMetadata, getGasPrices, getTransactionDetails, getHealth. Also give the task data from the task_params_map with the populated curly braces if there are any'\n",
    "                    'Give output with \"task\" field and \"data\" field if user is not conversing'\n",
    "                    'Converse with the user if the user is just conversing and answer him without any additional commentary. Answer like a human. Make no mention that it is a conversational query',\n",
    "    agent=task_define,\n",
    "    output_json = FirstAgentOutput\n",
    ")\n"
   ]
  },
  {
   "cell_type": "code",
   "execution_count": null,
   "metadata": {
    "execution": {
     "iopub.execute_input": "2025-01-22T06:11:08.184056Z",
     "iopub.status.busy": "2025-01-22T06:11:08.183593Z",
     "iopub.status.idle": "2025-01-22T06:11:08.193101Z",
     "shell.execute_reply": "2025-01-22T06:11:08.192076Z",
     "shell.execute_reply.started": "2025-01-22T06:11:08.184021Z"
    },
    "trusted": true
   },
   "outputs": [
    {
     "name": "stdout",
     "output_type": "stream",
     "text": [
      "LLM value is already an LLM object\n"
     ]
    }
   ],
   "source": [
    "getAgent = Agent(\n",
    "    role='Blockchain Information Retreiver',\n",
    "    goal='Provide accurate blockchain details using the given information. You will use the output provided by the Task Definer and Populator to perform the correct task'\n",
    "         'Pass the data field from the output of Task Definer and Populator to perform the task'\n",
    "         'Only perform one task'\n",
    "         \"If asked to convert balance to SOL, divine lamports by 1000000000. Give accurate output\"\n",
    "          'Give outputs in natural language and not json. Use the fields in json output to convert it to natural language',\n",
    "    backstory='An expert on retreiving information on blockchains',\n",
    "    tools=[structured_tool],\n",
    "    verbose=True,\n",
    "    memory = True,\n",
    "    llm = gemini_llm\n",
    "    \n",
    ")"
   ]
  },
  {
   "cell_type": "code",
   "execution_count": 83,
   "metadata": {
    "execution": {
     "iopub.execute_input": "2025-01-22T06:11:10.631654Z",
     "iopub.status.busy": "2025-01-22T06:11:10.631295Z",
     "iopub.status.idle": "2025-01-22T06:11:10.641812Z",
     "shell.execute_reply": "2025-01-22T06:11:10.640284Z",
     "shell.execute_reply.started": "2025-01-22T06:11:10.631627Z"
    },
    "trusted": true
   },
   "outputs": [],
   "source": [
    "task_params_map = {\n",
    "    \"getAccountInfo\" : {\n",
    "        \"data\": {\n",
    "            \"jsonrpc\": \"2.0\",\n",
    "            \"id\": 1,\n",
    "            \"method\": \"getAccountInfo\",\n",
    "            \"params\": [\n",
    "                \"{address}\",\n",
    "                {\"encoding\": \"base64\"}\n",
    "            ]\n",
    "        }\n",
    "    },\n",
    "    \"getContractMetadata\": {\n",
    "        \"data\" : {\n",
    "            \"jsonrpc\": \"2.0\",\n",
    "            \"id\": 1,\n",
    "            \"method\": \"getProgramAccounts\",\n",
    "            \"params\": [\n",
    "              \"{address}\",\n",
    "              {\n",
    "                \"filters\": [\n",
    "                  {\n",
    "                    \"dataSize\": 17\n",
    "                  },\n",
    "                  {\n",
    "                    \"memcmp\": {\n",
    "                      \"offset\": 4,\n",
    "                      \"bytes\": \"3Mc6vR\"\n",
    "                    }\n",
    "                  }\n",
    "                ]\n",
    "              }\n",
    "            ]\n",
    "          }\n",
    "    },\n",
    "    \"getGasPrices\": {\n",
    "        \"data\" : {\n",
    "          \"id\":1,\n",
    "          \"jsonrpc\":\"2.0\",\n",
    "          \"method\":\"getFeeForMessage\",\n",
    "          \"params\":[\n",
    "            \"{message}\",\n",
    "            {\n",
    "              \"commitment\":\"processed\"\n",
    "            }\n",
    "          ]\n",
    "        }\n",
    "    },\n",
    "    \n",
    "    \"getTransactionDetails\": {\n",
    "        \"data\" : {\n",
    "            \"jsonrpc\": \"2.0\",\n",
    "            \"id\": 1,\n",
    "            \"method\": \"getTransaction\",\n",
    "            \"params\": [\n",
    "                \"{signature}\",\n",
    "                {\"encoding\": \"jsonParsed\",\"maxSupportedTransactionVersion\":0}\n",
    "            ]\n",
    "        }\n",
    "    },\n",
    "\n",
    "    \"getHealth\": {\n",
    "        \"data\" : {\n",
    "            \"jsonrpc\":\"2.0\",\n",
    "            \"id\":1,\n",
    "            \"method\":\"getHealth\"\n",
    "        }\n",
    "    },\n",
    "\n",
    "    \"requestAirdrop\" : {\n",
    "        \"data\" : {\n",
    "            \"jsonrpc\": \"2.0\", \"id\": 1,\n",
    "            \"method\": \"requestAirdrop\",\n",
    "            \"params\": [\n",
    "              \"{address}\",\n",
    "              \"{amount}\"\n",
    "            ]\n",
    "          }\n",
    "    },\n",
    "\n",
    "    \"getBalance\" : {\n",
    "        \"data\" : {\n",
    "            \"jsonrpc\": \"2.0\", \"id\": 1,\n",
    "            \"method\": \"getBalance\",\n",
    "            \"params\": [\n",
    "              \"{address}\"\n",
    "            ]\n",
    "        }\n",
    "    },\n",
    "\n",
    "    \"getInflationRate\": {\n",
    "        \"data\" : {\n",
    "            \"jsonrpc\":\"2.0\",\n",
    "            \"id\":1,\n",
    "            \"method\":\"getInflationRate\"\n",
    "        }\n",
    "    },\n",
    "\n",
    "    \"getSupply\" : {\n",
    "        \"data\" : {\n",
    "            \"jsonrpc\":\"2.0\",\n",
    "            \"id\":1,\n",
    "            \"method\":\"getSupply\"\n",
    "        }\n",
    "    },\n",
    "\n",
    "    \"getTokenAccountBalance\" : {\n",
    "        \"data\" : {\n",
    "            \"jsonrpc\": \"2.0\",\n",
    "            \"id\": 1,\n",
    "            \"method\": \"getTokenAccountBalance\",\n",
    "            \"params\": [\n",
    "              \"{tokenAccountPubkey}\"\n",
    "            ]\n",
    "        }\n",
    "    },\n",
    "\n",
    "    \"getTokenAccountsByDelegate\" : {\n",
    "        \"data\" : {\n",
    "            \"jsonrpc\": \"2.0\",\n",
    "            \"id\": 1,\n",
    "            \"method\": \"getTokenAccountsByDelegate\",\n",
    "            \"params\": [\n",
    "              \"{address}\",\n",
    "              {\n",
    "                \"programId\": \"{programId}\"\n",
    "              },\n",
    "              {\n",
    "                \"encoding\": \"jsonParsed\"\n",
    "              }\n",
    "            ]\n",
    "        }\n",
    "    },\n",
    "\n",
    "    \"getTokenAccountsByOwner\" : {\n",
    "        \"data\" : {\n",
    "            \"jsonrpc\": \"2.0\",\n",
    "            \"id\": 1,\n",
    "            \"method\": \"getTokenAccountsByOwner\",\n",
    "            \"params\": [\n",
    "              \"{address}\",\n",
    "              {\n",
    "                \"programId\": \"{programId}\"\n",
    "              },\n",
    "              {\n",
    "                \"encoding\": \"jsonParsed\"\n",
    "              }\n",
    "            ]\n",
    "        }\n",
    "    },\n",
    "\n",
    "    \"getTokenLargestAccounts\" : {\n",
    "        \"data\" : {\n",
    "            \"jsonrpc\": \"2.0\", \"id\": 1,\n",
    "            \"method\": \"getTokenLargestAccounts\",\n",
    "            \"params\": [\n",
    "              \"{address}\"\n",
    "            ]\n",
    "          }\n",
    "    },\n",
    "\n",
    "    \"getTokenSupply\" : {\n",
    "        \"data\" : {\n",
    "            \"jsonrpc\": \"2.0\",\n",
    "                \"id\": 1,\n",
    "            \"method\": \"getTokenSupply\",\n",
    "            \"params\": [\n",
    "              \"{address}\"\n",
    "            ]\n",
    "        }\n",
    "    }\n",
    "    \n",
    "}"
   ]
  },
  {
   "cell_type": "code",
   "execution_count": 90,
   "metadata": {
    "execution": {
     "iopub.execute_input": "2025-01-22T06:12:39.420735Z",
     "iopub.status.busy": "2025-01-22T06:12:39.420345Z",
     "iopub.status.idle": "2025-01-22T06:12:39.444515Z",
     "shell.execute_reply": "2025-01-22T06:12:39.443252Z",
     "shell.execute_reply.started": "2025-01-22T06:12:39.420704Z"
    },
    "trusted": true
   },
   "outputs": [],
   "source": [
    "import json \n",
    "\n",
    "# Task 1: getContractMetadata\n",
    "getContractMetadata = Task(\n",
    "    description='Fetch metadata details of the program at the given address. Metadata should include owner, lamports, and any associated tags.',\n",
    "    expected_output='Contract metadata including owner, lamports, space, and other relevant details.',\n",
    "    context = [get_task],\n",
    "    agent=getAgent,  # Replace with the appropriate agent name,\n",
    ")\n",
    "\n",
    "# Task 2: getGasPrices\n",
    "getGasPrices = Task(\n",
    "    description='Fetch the fees for the message on blockchain.',\n",
    "    expected_output='All the parameters',\n",
    "    context = [get_task],\n",
    "    agent=getAgent,\n",
    ")\n",
    "\n",
    "# Task 3: getTransactionDetails\n",
    "getTransactionDetails = Task(\n",
    "    description='Fetch the details of the transaction with the given ID. Include sender, receiver, amount, timestamp, status, and confirmation count.',\n",
    "    expected_output='Transaction details including sender, receiver, amount, timestamp, status (confirmed or pending), and confirmation count.',\n",
    "    context = [get_task],\n",
    "    agent=getAgent,\n",
    ")\n",
    "\n",
    "# Task 4: getNetworkInfo\n",
    "getHealth = Task(\n",
    "    description='Retrieve the details of the blockchain network. Include current block height, number of transactions per second, and network health status.',\n",
    "    expected_output='Network information including block height, TPS (transactions per second), and network health status (healthy, degraded, etc.).',\n",
    "    context = [get_task],\n",
    "    agent=getAgent,\n",
    ")\n",
    "\n",
    "# Task 5: getAccountInfo\n",
    "getAccountInfo = Task(\n",
    "    description='Fetch the details of the given address on the blockchain and convert the balance into SOL and check if the SOL is greater than 0.',\n",
    "    expected_output='Balance, address, space ocucpied by the data, and return true is SOL balance is greather than 0 and false otherwise. Give this output in a sentence form and not json.',\n",
    "    context = [get_task],\n",
    "    agent=getAgent,\n",
    ")\n",
    "\n",
    "# Task 6: requestAirdrop\n",
    "requestAirdrop = Task(\n",
    "    description='Request an airdrop of a specified amount of SOL to the given address. Validate if the request was successful and include the updated balance after the airdrop',\n",
    "    expected_output='Confirmation of airdrop success, transaction ID, and updated balance in SOL.',\n",
    "    context = [get_task],\n",
    "    agent=getAgent,\n",
    ")\n",
    "\n",
    "# Task 7: getBalance\n",
    "getBalance = Task(\n",
    "    description='Get the balance of the given address and convert it to SOL',\n",
    "    expected_output='Balance in SOL in a sentence form and not json',\n",
    "    context = [get_task],\n",
    "    agent=getAgent,\n",
    ")\n",
    "\n",
    "# Task 8: getInflationRate\n",
    "getInflationRate = Task(\n",
    "    description='Fetch the current inflation rate details of the blockchain, including the total, validator, and foundation inflation rates.',\n",
    "    expected_output='Inflation rate details including total inflation rate, validator inflation rate, and foundation inflation rate in a sentence format.',\n",
    "    context=[get_task],\n",
    "    agent=getAgent,\n",
    ")\n",
    "\n",
    "# Task 9: getSupply\n",
    "getSupply = Task(\n",
    "    description='Retrieve the total supply of SOL on the blockchain. Include circulating and non-circulating supplies and total.',\n",
    "    expected_output='Supply details including total supply, circulating supply, and non-circulating supply in a sentence format.',\n",
    "    context=[get_task],\n",
    "    agent=getAgent,\n",
    ")\n",
    "\n",
    "# Task 10: getTokenAccountBalance\n",
    "getTokenAccountBalance = Task(\n",
    "    description='Fetch the balance of the token account for the given address. Include the balance in both the smallest unit (lamports) and human-readable format.',\n",
    "    expected_output='Token account balance including lamports and equivalent human-readable format, decimals and uiAmountString in sentence format.',\n",
    "    context=[get_task],\n",
    "    agent=getAgent\n",
    ")\n",
    "\n",
    "# Task 11: getTokenAccountsByDelegate\n",
    "getTokenAccountsByDelegate = Task(\n",
    "    description='Retrieve all token accounts delegated to the given delegate address. Include account details and associated balances.',\n",
    "    expected_output='List of token accounts delegated to the address, including account details, balances and delegated amount.',\n",
    "    context=[get_task],\n",
    "    agent=getAgent\n",
    ")\n",
    "\n",
    "# Task 12: getTokenAccountsByOwner\n",
    "getTokenAccountsByOwner = Task(\n",
    "    description='Retrieve all token accounts owned by the given owner address and given programID. Include account details and associated balances.',\n",
    "    expected_output='List of token accounts owned by the address, including account details and balances.',\n",
    "    context=[get_task],\n",
    "    agent=getAgent\n",
    ")\n",
    "\n",
    "# Task 13: getTokenLargestAccounts\n",
    "getTokenLargestAccounts = Task(\n",
    "    description='Fetch the largest token accounts for the given token mint. Include the account addresses and their respective balances, decimals and uiAmountString.',\n",
    "    expected_output='List of the largest token accounts for the token mint, including addresses, balances, decimals and uiAmountString.',\n",
    "    context=[get_task],\n",
    "    agent=getAgent\n",
    ")\n",
    "\n",
    "# Task 14: getTokenSupply\n",
    "getTokenSupply = Task(\n",
    "    description='Retrieve the total supply of a specific token for the given token mint address. Include the total supply in lamports and human-readable format.',\n",
    "    expected_output='Total token supply for the given mint address in lamports and human-readable format. Also give decimals, uiAmountString',\n",
    "    context=[get_task],\n",
    "    agent=getAgent\n",
    ")\n",
    "\n"
   ]
  },
  {
   "cell_type": "code",
   "execution_count": 87,
   "metadata": {
    "execution": {
     "iopub.execute_input": "2025-01-22T06:11:15.094843Z",
     "iopub.status.busy": "2025-01-22T06:11:15.094473Z",
     "iopub.status.idle": "2025-01-22T06:11:15.099620Z",
     "shell.execute_reply": "2025-01-22T06:11:15.098545Z",
     "shell.execute_reply.started": "2025-01-22T06:11:15.094814Z"
    },
    "trusted": true
   },
   "outputs": [],
   "source": [
    "memory = []  # To store multi-turn chat history"
   ]
  },
  {
   "cell_type": "code",
   "execution_count": null,
   "metadata": {
    "execution": {
     "iopub.execute_input": "2025-01-22T06:12:41.722197Z",
     "iopub.status.busy": "2025-01-22T06:12:41.721827Z",
     "iopub.status.idle": "2025-01-22T06:13:06.058291Z",
     "shell.execute_reply": "2025-01-22T06:13:06.056735Z",
     "shell.execute_reply.started": "2025-01-22T06:12:41.722168Z"
    },
    "trusted": true
   },
   "outputs": [
    {
     "name": "stderr",
     "output_type": "stream",
     "text": [
      "\u001b[92m06:12:45 - LiteLLM:INFO\u001b[0m: utils.py:2784 - \n",
      "LiteLLM completion() model= gemini-1.5-flash; provider = gemini\n"
     ]
    },
    {
     "name": "stdout",
     "output_type": "stream",
     "text": [
      "\u001b[1m\u001b[95m# Agent:\u001b[00m \u001b[1m\u001b[92mTask Definer and Populator\u001b[00m\n",
      "\u001b[95m## Task:\u001b[00m \u001b[92mIdentify the task needed to be performed in What is the balance of dv1ZAGvdsz5hHLwWXsVnM94hWf1pjbKVau1QVkaMJ92. Return getAccountInfo is the user wants to send SOL to someone.If the user is just conversing and there is no task to be performed, converse with the user like a human and take into consideration [{'role': 'user', 'content': 'Tell me about dv1ZAGvdsz5hHLwWXsVnM94hWf1pjbKVau1QVkaMJ92'}, {'role': 'assistant', 'content': '{\\n  \"task\": \"getAccountInfo\",\\n  \"data\": {\\n    \"jsonrpc\": \"2.0\",\\n    \"id\": 1,\\n    \"method\": \"getAccountInfo\",\\n    \"params\": [\\n      \"dv1ZAGvdsz5hHLwWXsVnM94hWf1pjbKVau1QVkaMJ92\",\\n      {\\n        \"encoding\": \"base64\"\\n      }\\n    ]\\n  }\\n}'}, {'role': 'assistant', 'content': 'The address dv1ZAGvdsz5hHLwWXsVnM94hWf1pjbKVau1QVkaMJ92 has a balance of 6736.576564398 SOL, occupies 0 bytes of space, and has a SOL balance greater than 0 (true).\\n```'}, {'role': 'user', 'content': 'What is the balance of dv1ZAGvdsz5hHLwWXsVnM94hWf1pjbKVau1QVkaMJ92'}, {'role': 'assistant', 'content': '{\\n  \"task\": \"getBalance\",\\n  \"data\": {\\n    \"jsonrpc\": \"2.0\",\\n    \"id\": 1,\\n    \"method\": \"getBalance\",\\n    \"params\": [\\n      \"dv1ZAGvdsz5hHLwWXsVnM94hWf1pjbKVau1QVkaMJ92\"\\n    ]\\n  }\\n}'}, {'role': 'assistant', 'content': 'The balance of address dv1ZAGvdsz5hHLwWXsVnM94hWf1pjbKVau1QVkaMJ92 is 673.6579986398 SOL.\\n```'}, {'role': 'user', 'content': 'What is the balance of dv1ZAGvdsz5hHLwWXsVnM94hWf1pjbKVau1QVkaMJ92'}] as well \u001b[00m\n"
     ]
    },
    {
     "name": "stderr",
     "output_type": "stream",
     "text": [
      "\u001b[92m06:12:48 - LiteLLM:INFO\u001b[0m: utils.py:941 - Wrapper: Completed Call, calling success_handler\n"
     ]
    },
    {
     "name": "stdout",
     "output_type": "stream",
     "text": [
      "\n",
      "\n",
      "\u001b[1m\u001b[95m# Agent:\u001b[00m \u001b[1m\u001b[92mTask Definer and Populator\u001b[00m\n",
      "\u001b[95m## Final Answer:\u001b[00m \u001b[92m\n",
      "```json\n",
      "{\n",
      "  \"task\": \"getBalance\",\n",
      "  \"data\": {\n",
      "    \"jsonrpc\": \"2.0\",\n",
      "    \"id\": 1,\n",
      "    \"method\": \"getBalance\",\n",
      "    \"params\": [\n",
      "      \"dv1ZAGvdsz5hHLwWXsVnM94hWf1pjbKVau1QVkaMJ92\"\n",
      "    ]\n",
      "  }\n",
      "}\n",
      "```\u001b[00m\n",
      "\n",
      "\n"
     ]
    },
    {
     "name": "stderr",
     "output_type": "stream",
     "text": [
      "\u001b[92m06:12:50 - LiteLLM:INFO\u001b[0m: utils.py:2784 - \n",
      "LiteLLM completion() model= gemini-1.5-flash; provider = gemini\n",
      "\u001b[92m06:12:51 - LiteLLM:INFO\u001b[0m: utils.py:2784 - \n",
      "LiteLLM completion() model= gemini-1.5-flash; provider = gemini\n"
     ]
    },
    {
     "name": "stdout",
     "output_type": "stream",
     "text": [
      "\n",
      "\u001b[1;31mGive Feedback / Get Help: https://github.com/BerriAI/litellm/issues/new\u001b[0m\n",
      "LiteLLM.Info: If you need to debug this error, use `litellm.set_verbose=True'.\n",
      "\n"
     ]
    },
    {
     "name": "stderr",
     "output_type": "stream",
     "text": [
      "\u001b[92m06:12:53 - LiteLLM:INFO\u001b[0m: utils.py:941 - Wrapper: Completed Call, calling success_handler\n",
      "\u001b[92m06:12:56 - LiteLLM:INFO\u001b[0m: utils.py:2784 - \n",
      "LiteLLM completion() model= gemini-1.5-flash; provider = gemini\n"
     ]
    },
    {
     "name": "stdout",
     "output_type": "stream",
     "text": [
      "\u001b[1m\u001b[95m# Agent:\u001b[00m \u001b[1m\u001b[92mBlockchain Information Retreiver\u001b[00m\n",
      "\u001b[95m## Task:\u001b[00m \u001b[92mGet the balance of the given address and convert it to SOL\u001b[00m\n"
     ]
    },
    {
     "name": "stderr",
     "output_type": "stream",
     "text": [
      "\u001b[92m06:12:59 - LiteLLM:INFO\u001b[0m: utils.py:941 - Wrapper: Completed Call, calling success_handler\n",
      "\u001b[92m06:13:00 - LiteLLM:INFO\u001b[0m: utils.py:2784 - \n",
      "LiteLLM completion() model= gemini-1.5-flash; provider = gemini\n"
     ]
    },
    {
     "name": "stdout",
     "output_type": "stream",
     "text": [
      "\n",
      "\n",
      "\u001b[1m\u001b[95m# Agent:\u001b[00m \u001b[1m\u001b[92mBlockchain Information Retreiver\u001b[00m\n",
      "\u001b[95m## Using tool:\u001b[00m \u001b[92mWrapper API\u001b[00m\n",
      "\u001b[95m## Tool Input:\u001b[00m \u001b[92m\n",
      "\"{\\\"data\\\": {\\\"jsonrpc\\\": \\\"2.0\\\", \\\"id\\\": 1, \\\"method\\\": \\\"getBalance\\\", \\\"params\\\": [\\\"dv1ZAGvdsz5hHLwWXsVnM94hWf1pjbKVau1QVkaMJ92\\\"]}}\"\u001b[00m\n",
      "\u001b[95m## Tool Output:\u001b[00m \u001b[92m\n",
      "{'jsonrpc': '2.0', 'result': {'context': {'apiVersion': '2.1.8', 'slot': 355798375}, 'value': 6736580226982}, 'id': 1}\u001b[00m\n"
     ]
    },
    {
     "name": "stderr",
     "output_type": "stream",
     "text": [
      "\u001b[92m06:13:02 - LiteLLM:INFO\u001b[0m: utils.py:941 - Wrapper: Completed Call, calling success_handler\n"
     ]
    },
    {
     "name": "stdout",
     "output_type": "stream",
     "text": [
      "\n",
      "\n",
      "\u001b[1m\u001b[95m# Agent:\u001b[00m \u001b[1m\u001b[92mBlockchain Information Retreiver\u001b[00m\n",
      "\u001b[95m## Final Answer:\u001b[00m \u001b[92m\n",
      "The balance of address dv1ZAGvdsz5hHLwWXsVnM94hWf1pjbKVau1QVkaMJ92 is 6736.580226982 SOL.\n",
      "```\u001b[00m\n",
      "\n",
      "\n"
     ]
    },
    {
     "name": "stderr",
     "output_type": "stream",
     "text": [
      "\u001b[92m06:13:04 - LiteLLM:INFO\u001b[0m: utils.py:2784 - \n",
      "LiteLLM completion() model= gemini-1.5-flash; provider = gemini\n",
      "\u001b[92m06:13:06 - LiteLLM:INFO\u001b[0m: utils.py:941 - Wrapper: Completed Call, calling success_handler\n"
     ]
    }
   ],
   "source": [
    "def multi_turn_chat(user_input, crew, memory):\n",
    "    memory.append({\"role\": \"user\", \"content\": user_input})\n",
    "\n",
    "    inputs = {\"text\": user_input, \"task_params_map\": task_params_map, \"memory\": memory}\n",
    "    result = crew.kickoff(inputs)\n",
    "\n",
    "    memory.append({\"role\": \"assistant\", \"content\": result.raw})\n",
    "    return result\n",
    "\n",
    "crew = Crew(\n",
    "    agents=[task_define],\n",
    "    tasks=[get_task],\n",
    "    memory = True,\n",
    "    verbose=True,\n",
    ")\n",
    "\n",
    "result = multi_turn_chat(\"What is the balance of dv1ZAGvdsz5hHLwWXsVnM94hWf1pjbKVau1QVkaMJ92\", crew, memory)\n",
    "# # result = crew.kickoff(inputs={\"text\":\"Was the SOL greater than 0 in the previous result\", \"task_params_map\": task_params_map})\n",
    "\n",
    "second_agent_tasks = {\n",
    "    \"getContractMetadata\" : getContractMetadata,\n",
    "    \"getGasPrices\" : getGasPrices,\n",
    "    \"getTransactionDetails\" : getTransactionDetails,\n",
    "    \"getHealth\" : getHealth,\n",
    "    \"getAccountInfo\" : getAccountInfo,\n",
    "    \"requestAirdrop\" : requestAirdrop,\n",
    "    \"getBalance\" : getBalance,\n",
    "    \"getInflationRate\" : getInflationRate,\n",
    "    \"getSupply\" : getSupply,\n",
    "    \"getTokenAccountBalance\" : getTokenAccountBalance,\n",
    "    \"getTokenAccountsByDelegate\" : getTokenAccountsByDelegate,\n",
    "    \"getTokenAccountsByOwner\" : getTokenAccountsByOwner,\n",
    "    \"getTokenLargestAccounts\" : getTokenLargestAccounts,\n",
    "    \"getTokenSupply\" : getTokenSupply\n",
    "}\n",
    "\n",
    "if result['task'] and result['task'] in second_agent_tasks:\n",
    "    second_task = second_agent_tasks[result['task']]\n",
    "    crew = Crew(agents=[getAgent], tasks=[second_task], memory=True, verbose=True)\n",
    "    final_result = crew.kickoff(inputs={\"data\": result['data']})\n",
    "    memory.append({\"role\": \"assistant\", \"content\": final_result.raw})"
   ]
  }
 ],
 "metadata": {
  "kaggle": {
   "accelerator": "none",
   "dataSources": [],
   "dockerImageVersionId": 30822,
   "isGpuEnabled": false,
   "isInternetEnabled": true,
   "language": "python",
   "sourceType": "notebook"
  },
  "kernelspec": {
   "display_name": "agent",
   "language": "python",
   "name": "python3"
  },
  "language_info": {
   "codemirror_mode": {
    "name": "ipython",
    "version": 3
   },
   "file_extension": ".py",
   "mimetype": "text/x-python",
   "name": "python",
   "nbconvert_exporter": "python",
   "pygments_lexer": "ipython3",
   "version": "3.10.14"
  }
 },
 "nbformat": 4,
 "nbformat_minor": 4
}
