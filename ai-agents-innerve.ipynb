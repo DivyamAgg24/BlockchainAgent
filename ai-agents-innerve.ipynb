{
 "cells": [
  {
   "cell_type": "code",
   "execution_count": 1,
   "metadata": {
    "execution": {
     "iopub.execute_input": "2025-01-16T14:12:09.449156Z",
     "iopub.status.busy": "2025-01-16T14:12:09.448735Z",
     "iopub.status.idle": "2025-01-16T14:12:16.028594Z",
     "shell.execute_reply": "2025-01-16T14:12:16.027223Z",
     "shell.execute_reply.started": "2025-01-16T14:12:09.449125Z"
    },
    "trusted": true
   },
   "outputs": [
    {
     "name": "stdout",
     "output_type": "stream",
     "text": [
      "Collecting blinker\n",
      "  Downloading blinker-1.9.0-py3-none-any.whl.metadata (1.6 kB)\n",
      "Downloading blinker-1.9.0-py3-none-any.whl (8.5 kB)\n",
      "Installing collected packages: blinker\n",
      "Successfully installed blinker-1.9.0\n"
     ]
    }
   ],
   "source": [
    "!pip install --force-reinstall --ignore-installed blinker"
   ]
  },
  {
   "cell_type": "code",
   "execution_count": null,
   "metadata": {
    "execution": {
     "iopub.execute_input": "2025-01-16T14:12:16.030840Z",
     "iopub.status.busy": "2025-01-16T14:12:16.030380Z",
     "iopub.status.idle": "2025-01-16T14:14:02.397929Z",
     "shell.execute_reply": "2025-01-16T14:14:02.396461Z",
     "shell.execute_reply.started": "2025-01-16T14:12:16.030793Z"
    },
    "scrolled": true,
    "trusted": true
   },
   "outputs": [],
   "source": [
    "!pip install crewai crewai-tools"
   ]
  },
  {
   "cell_type": "code",
   "execution_count": null,
   "metadata": {},
   "outputs": [],
   "source": [
    "!pip install python-dotenv"
   ]
  },
  {
   "cell_type": "code",
   "execution_count": 3,
   "metadata": {
    "execution": {
     "iopub.execute_input": "2025-01-16T14:14:02.401265Z",
     "iopub.status.busy": "2025-01-16T14:14:02.400891Z",
     "iopub.status.idle": "2025-01-16T14:14:02.407072Z",
     "shell.execute_reply": "2025-01-16T14:14:02.405675Z",
     "shell.execute_reply.started": "2025-01-16T14:14:02.401234Z"
    },
    "trusted": true
   },
   "outputs": [],
   "source": [
    "import os\n",
    "from dotenv import load_dotenv\n",
    "\n",
    "load_dotenv()\n",
    "\n",
    "GEMINI_API_KEY = os.getenv(\"GEMINI_API_KEY\")"
   ]
  },
  {
   "cell_type": "code",
   "execution_count": 4,
   "metadata": {
    "execution": {
     "iopub.execute_input": "2025-01-16T14:14:02.409933Z",
     "iopub.status.busy": "2025-01-16T14:14:02.409457Z",
     "iopub.status.idle": "2025-01-16T14:14:09.235355Z",
     "shell.execute_reply": "2025-01-16T14:14:09.234037Z",
     "shell.execute_reply.started": "2025-01-16T14:14:02.409890Z"
    },
    "trusted": true
   },
   "outputs": [],
   "source": [
    "from crewai import LLM\n",
    "gemini_llm = LLM(\n",
    "    model=\"gemini/gemini-1.5-flash\",\n",
    "    api_key=GEMINI_API_KEY,\n",
    "    temperature=0,\n",
    ")"
   ]
  },
  {
   "cell_type": "code",
   "execution_count": 5,
   "metadata": {
    "execution": {
     "iopub.execute_input": "2025-01-16T14:14:09.237200Z",
     "iopub.status.busy": "2025-01-16T14:14:09.236494Z",
     "iopub.status.idle": "2025-01-16T14:14:09.455916Z",
     "shell.execute_reply": "2025-01-16T14:14:09.454546Z",
     "shell.execute_reply.started": "2025-01-16T14:14:09.237165Z"
    },
    "trusted": true
   },
   "outputs": [
    {
     "name": "stdout",
     "output_type": "stream",
     "text": [
      "{'jsonrpc': '2.0', 'result': {'context': {'apiVersion': '2.0.21', 'slot': 314378092}, 'value': {'data': ['AgAAAL4zkcMPRYarxgednZ3r504XyexzY/JuY/2bbqm+blYz', 'base64'], 'executable': True, 'lamports': 1141440, 'owner': 'BPFLoaderUpgradeab1e11111111111111111111111', 'rentEpoch': 18446744073709551615, 'space': 36}}, 'id': 1}\n"
     ]
    }
   ],
   "source": [
    "from crewai.tools.structured_tool import CrewStructuredTool\n",
    "from pydantic import BaseModel\n",
    "import requests\n",
    "\n",
    "class APICallInput(BaseModel):\n",
    "    data: dict\n",
    "\n",
    "# Wrapper function to execute the API call\n",
    "def tool_wrapper(*args, **kwargs):\n",
    "    url = \"https://api.mainnet-beta.solana.com/\"\n",
    "    \n",
    "    try:\n",
    "        response = requests.post(url, json=kwargs[\"data\"])\n",
    "\n",
    "        if response.status_code == 200:\n",
    "            return response.json()\n",
    "        else:\n",
    "            print('Error:', response.status_code)\n",
    "            return None\n",
    "    except requests.exceptions.RequestException as e:\n",
    "        print('Error:', e)\n",
    "        return None\n",
    "\n",
    "# Create and return the structured tool\n",
    "def create_structured_tool():\n",
    "    return CrewStructuredTool.from_function(\n",
    "        name='Wrapper API',\n",
    "        description=\"A tool to wrap API calls with structured input.\",\n",
    "        args_schema=APICallInput,\n",
    "        func=tool_wrapper,\n",
    "    )\n",
    "\n",
    "# Example usage\n",
    "structured_tool = create_structured_tool()\n",
    "\n",
    "# Execute the tool with structured input\n",
    "result = structured_tool._run(**{\n",
    "    \"data\": {\"jsonrpc\":\"2.0\", \"id\":1, \"method\":\"getAccountInfo\", \"params\":[\"TokenzQdBNbLqP5VEhdkAS6EPFLC1PHnBqCXEpPxuEb\", {\"encoding\":\"base64\"}]}\n",
    "})\n",
    "print(result)"
   ]
  },
  {
   "cell_type": "code",
   "execution_count": 9,
   "metadata": {
    "execution": {
     "iopub.execute_input": "2025-01-16T06:23:19.093118Z",
     "iopub.status.busy": "2025-01-16T06:23:19.092775Z",
     "iopub.status.idle": "2025-01-16T06:23:19.098437Z",
     "shell.execute_reply": "2025-01-16T06:23:19.097377Z",
     "shell.execute_reply.started": "2025-01-16T06:23:19.093090Z"
    },
    "trusted": true
   },
   "outputs": [],
   "source": [
    "# information = Task(\n",
    "#     description='Fetch the details of the {data} on the blockchain and convert the balance into SOL and check if the SOL is greater than 0.',\n",
    "#     expected_output='Balance, address, space ocucpied by the data, and return true is SOL balance is greather than 0 and false otherwise',\n",
    "#     agent=informant,\n",
    "# )"
   ]
  },
  {
   "cell_type": "code",
   "execution_count": 10,
   "metadata": {
    "execution": {
     "iopub.execute_input": "2025-01-16T06:23:20.547338Z",
     "iopub.status.busy": "2025-01-16T06:23:20.546939Z",
     "iopub.status.idle": "2025-01-16T06:23:20.571421Z",
     "shell.execute_reply": "2025-01-16T06:23:20.570253Z",
     "shell.execute_reply.started": "2025-01-16T06:23:20.547302Z"
    },
    "trusted": true
   },
   "outputs": [],
   "source": [
    "# crew = Crew(\n",
    "#     agents=[informant],\n",
    "#     tasks=[information],\n",
    "#     verbose=True,\n",
    "# )"
   ]
  },
  {
   "cell_type": "code",
   "execution_count": null,
   "metadata": {
    "trusted": true
   },
   "outputs": [],
   "source": [
    "# result = crew.kickoff(inputs={\n",
    "#         \"data\": {\n",
    "#             \"jsonrpc\": \"2.0\",\n",
    "#             \"id\": 1,\n",
    "#             \"method\": \"getAccountInfo\",\n",
    "#             \"params\": [\n",
    "#                 \"6ZMqaeUzxUuwU692dvRwiZFeDWEsB3BFZ527Cbugxf9y\",\n",
    "#                 {\"encoding\": \"base64\"}\n",
    "#             ]\n",
    "#         }\n",
    "#     })"
   ]
  },
  {
   "cell_type": "code",
   "execution_count": 29,
   "metadata": {
    "execution": {
     "iopub.execute_input": "2025-01-16T14:29:54.680633Z",
     "iopub.status.busy": "2025-01-16T14:29:54.680259Z",
     "iopub.status.idle": "2025-01-16T14:29:54.692691Z",
     "shell.execute_reply": "2025-01-16T14:29:54.691147Z",
     "shell.execute_reply.started": "2025-01-16T14:29:54.680605Z"
    },
    "trusted": true
   },
   "outputs": [],
   "source": [
    "from crewai import Agent, Task, Crew, Process, LLM\n",
    "class FirstAgentOutput(BaseModel):\n",
    "    task: str\n",
    "    data: dict\n",
    "\n",
    "task_define = Agent(\n",
    "    role='Task Definer and Populator',\n",
    "    goal='Process the user input and tell which task is needed to be performed after identifying if the input provided is an address, signature or a message. Also populate the field in curly brackets in params of the correct task in {task_params_map}.',\n",
    "    backstory='Have knowledge about all the tasks that can be requested by the user'\n",
    "    \"Able to identify the right task needed to be performed given the user query. Your output will be used by Blockchain Information Retreiver to fetch the corresponding info\",\n",
    "    verbose=True,\n",
    "    llm = gemini_llm\n",
    "    \n",
    ")\n",
    "\n",
    "get_task = Task(\n",
    "    description='Identify the task needed to be performed in {text}. Return getAccountInfo is the user wants to send SOL to someone.',\n",
    "    expected_output='Give me the name of the task from getAccountInfo, getContractMetadata, getGasPrices, getTransactionDetails, getHealth. Also give the task data from the task_params_map with the populated address field if it has one in data field'\n",
    "                    'Give output with \"task\" field and \"data\" field',\n",
    "    agent=task_define,\n",
    "    output_json = FirstAgentOutput\n",
    ")\n"
   ]
  },
  {
   "cell_type": "code",
   "execution_count": 6,
   "metadata": {
    "execution": {
     "iopub.execute_input": "2025-01-16T14:14:09.457775Z",
     "iopub.status.busy": "2025-01-16T14:14:09.457243Z",
     "iopub.status.idle": "2025-01-16T14:14:09.466865Z",
     "shell.execute_reply": "2025-01-16T14:14:09.465510Z",
     "shell.execute_reply.started": "2025-01-16T14:14:09.457731Z"
    },
    "trusted": true
   },
   "outputs": [],
   "source": [
    "informant = Agent(\n",
    "    role='Blockchain Information Retreiver',\n",
    "    goal='Provide accurate blockchain details using the given information. You will use the output provided by the Task Definer and Populator to perform the correct task'\n",
    "         'Pass the data field from the output of Task Definer and Populator to perform the task'\n",
    "         'Only perform one task',\n",
    "    backstory='An expert on retreiving information on blockchains',\n",
    "    tools=[structured_tool],\n",
    "    verbose=True,\n",
    "    llm = gemini_llm\n",
    "    \n",
    ")"
   ]
  },
  {
   "cell_type": "code",
   "execution_count": 35,
   "metadata": {
    "execution": {
     "iopub.execute_input": "2025-01-16T14:35:17.579257Z",
     "iopub.status.busy": "2025-01-16T14:35:17.578768Z",
     "iopub.status.idle": "2025-01-16T14:35:17.587516Z",
     "shell.execute_reply": "2025-01-16T14:35:17.585906Z",
     "shell.execute_reply.started": "2025-01-16T14:35:17.579219Z"
    },
    "trusted": true
   },
   "outputs": [],
   "source": [
    "task_params_map = {\n",
    "    \"getAccountInfo\" : {\n",
    "        \"data\": {\n",
    "            \"jsonrpc\": \"2.0\",\n",
    "            \"id\": 1,\n",
    "            \"method\": \"getAccountInfo\",\n",
    "            \"params\": [\n",
    "                \"{address}\",\n",
    "                {\"encoding\": \"base64\"}\n",
    "            ]\n",
    "        }\n",
    "    },\n",
    "    \"getContractMetadata\": {\n",
    "        \"data\" : {\n",
    "            \"jsonrpc\": \"2.0\",\n",
    "            \"id\": 1,\n",
    "            \"method\": \"getProgramAccounts\",\n",
    "            \"params\": [\n",
    "              \"{address}\",\n",
    "              {\n",
    "                \"filters\": [\n",
    "                  {\n",
    "                    \"dataSize\": 17\n",
    "                  },\n",
    "                  {\n",
    "                    \"memcmp\": {\n",
    "                      \"offset\": 4,\n",
    "                      \"bytes\": \"3Mc6vR\"\n",
    "                    }\n",
    "                  }\n",
    "                ]\n",
    "              }\n",
    "            ]\n",
    "          }\n",
    "    },\n",
    "    \"getGasPrices\": {\n",
    "        \"data\" : {\n",
    "          \"id\":1,\n",
    "          \"jsonrpc\":\"2.0\",\n",
    "          \"method\":\"getFeeForMessage\",\n",
    "          \"params\":[\n",
    "            \"{message}\",\n",
    "            {\n",
    "              \"commitment\":\"processed\"\n",
    "            }\n",
    "          ]\n",
    "        }\n",
    "    },\n",
    "    \n",
    "    \"getTransactionDetails\": {\n",
    "        \"data\" : {\n",
    "            \"jsonrpc\": \"2.0\",\n",
    "            \"id\": 1,\n",
    "            \"method\": \"getTransaction\",\n",
    "            \"params\": [\n",
    "                \"{signature}\",\n",
    "                {\"encoding\": \"jsonParsed\",\"maxSupportedTransactionVersion\":0}\n",
    "            ]\n",
    "        }\n",
    "    },\n",
    "\n",
    "    \"getHealth\": {\n",
    "        \"data\" : {\n",
    "            \"jsonrpc\":\"2.0\",\n",
    "            \"id\":1,\n",
    "            \"method\":\"getHealth\"\n",
    "        }\n",
    "    },\n",
    "    # \"trackTransactionStatus\": {\n",
    "    #     \"data\" : {\n",
    "    #         \"jsonrpc\": \"2.0\",\n",
    "    #         \"id\": 1,\n",
    "    #         \"method\": \"trackTransactionStatus\",\n",
    "    #         \"params\": [\"transaction_id\"]\n",
    "    #     }\n",
    "    # }\n",
    "    \n",
    "}"
   ]
  },
  {
   "cell_type": "code",
   "execution_count": null,
   "metadata": {
    "jupyter": {
     "source_hidden": true
    },
    "trusted": true
   },
   "outputs": [],
   "source": [
    "from crewai.tasks.conditional_task import ConditionalTask\n",
    "conditional_getAccountInfo_task = ConditionalTask(\n",
    "    task=getAccountInfo,\n",
    "    condition=getAccountInfo_condition\n",
    ")"
   ]
  },
  {
   "cell_type": "code",
   "execution_count": 31,
   "metadata": {
    "execution": {
     "iopub.execute_input": "2025-01-16T14:30:01.441809Z",
     "iopub.status.busy": "2025-01-16T14:30:01.441378Z",
     "iopub.status.idle": "2025-01-16T14:30:01.463459Z",
     "shell.execute_reply": "2025-01-16T14:30:01.461154Z",
     "shell.execute_reply.started": "2025-01-16T14:30:01.441778Z"
    },
    "trusted": true
   },
   "outputs": [],
   "source": [
    "import json\n",
    "def getContractMetadata_condition(output):\n",
    "    output_dict = json.loads(output.raw)\n",
    "    return output_dict['task'] == 'getContractMetadata'\n",
    "    # return 'getContractMetadata' in output['task'] \n",
    "def getGasPrices_condition(output):\n",
    "    output_dict = json.loads(output.raw)\n",
    "    return output_dict['task'] == 'getGasPrices'\n",
    "    # return 'getGasPrices' in output['task'] \n",
    "def getTransactionDetails_condition(output):\n",
    "    output_dict = json.loads(output.raw)\n",
    "    return output_dict['task'] == 'getTransactionDetails'\n",
    "    # return  'getTransactionDetails' in output['task']\n",
    "def getHealth_condition(output):\n",
    "    output_dict = json.loads(output.raw)\n",
    "    return output_dict['task'] == 'getHealth'\n",
    "    # return 'getHealth' in output['task'] \n",
    "def getAccountInfo_condition(output):\n",
    "    output_dict = json.loads(output.raw)\n",
    "    return output_dict['task'] == 'getAccountInfo'\n",
    "    # return 'getAccountInfo' in output['task'] \n",
    "\n",
    "# Task 1: getContractMetadata\n",
    "getContractMetadata = Task(\n",
    "    description='Fetch metadata details of the program at the given address. Metadata should include owner, lamports, and any associated tags.',\n",
    "    expected_output='Contract metadata including owner, lamports, space, and other relevant details.',\n",
    "    context = [get_task],\n",
    "    agent=informant,  # Replace with the appropriate agent name,\n",
    ")\n",
    "\n",
    "# Task 2: getGasPrices\n",
    "getGasPrices = Task(\n",
    "    description='Fetch the fees for the message on blockchain.',\n",
    "    expected_output='All the parameters',\n",
    "    context = [get_task],\n",
    "    agent=informant,\n",
    ")\n",
    "\n",
    "# Task 3: getTransactionDetails\n",
    "getTransactionDetails = Task(\n",
    "    description='Fetch the details of the transaction with the given ID. Include sender, receiver, amount, timestamp, status, and confirmation count.',\n",
    "    expected_output='Transaction details including sender, receiver, amount, timestamp, status (confirmed or pending), and confirmation count.',\n",
    "    context = [get_task],\n",
    "    agent=informant,\n",
    ")\n",
    "\n",
    "# Task 4: getNetworkInfo\n",
    "getHealth = Task(\n",
    "    description='Retrieve the details of the blockchain network. Include current block height, number of transactions per second, and network health status.',\n",
    "    expected_output='Network information including block height, TPS (transactions per second), and network health status (healthy, degraded, etc.).',\n",
    "    context = [get_task],\n",
    "    agent=informant,\n",
    ")\n",
    "\n",
    "# # Task 5: trackTransactionStatus\n",
    "# trackTransactionStatus = Task(\n",
    "#     description='Monitor the status of the transaction with the given ID. Provide updates on confirmation status and finality.',\n",
    "#     expected_output='Transaction status including confirmation percentage, finality status (finalized or not), and any associated errors.',\n",
    "#     agent=informant,\n",
    "# )\n",
    "\n",
    "# Task 5: getAccountInfo\n",
    "getAccountInfo = Task(\n",
    "    description='Fetch the details of the given address on the blockchain and convert the balance into SOL and check if the SOL is greater than 0.',\n",
    "    expected_output='Balance, address, space ocucpied by the data, and return true is SOL balance is greather than 0 and false otherwise',\n",
    "    context = [get_task],\n",
    "    agent=informant,\n",
    ")"
   ]
  },
  {
   "cell_type": "code",
   "execution_count": 37,
   "metadata": {
    "execution": {
     "iopub.execute_input": "2025-01-16T14:45:31.682915Z",
     "iopub.status.busy": "2025-01-16T14:45:31.682504Z",
     "iopub.status.idle": "2025-01-16T14:45:39.127568Z",
     "shell.execute_reply": "2025-01-16T14:45:39.126416Z",
     "shell.execute_reply.started": "2025-01-16T14:45:31.682881Z"
    },
    "trusted": true
   },
   "outputs": [
    {
     "name": "stderr",
     "output_type": "stream",
     "text": [
      "\u001b[92m14:45:31 - LiteLLM:INFO\u001b[0m: utils.py:2802 - \n",
      "LiteLLM completion() model= gemini-1.5-flash; provider = gemini\n"
     ]
    },
    {
     "name": "stdout",
     "output_type": "stream",
     "text": [
      "\u001b[1m\u001b[95m# Agent:\u001b[00m \u001b[1m\u001b[92mTask Definer and Populator\u001b[00m\n",
      "\u001b[95m## Task:\u001b[00m \u001b[92mIdentify the task needed to be performed in Get me the details for hide2jJRvN58wfCr4frtdEwULWPK3dQ92ewqbxgJnEL. Return getAccountInfo is the user wants to send SOL to someone.\u001b[00m\n"
     ]
    },
    {
     "name": "stderr",
     "output_type": "stream",
     "text": [
      "\u001b[92m14:45:33 - LiteLLM:INFO\u001b[0m: utils.py:949 - Wrapper: Completed Call, calling success_handler\n",
      "\u001b[92m14:45:33 - LiteLLM:INFO\u001b[0m: utils.py:2802 - \n",
      "LiteLLM completion() model= gemini-1.5-flash; provider = gemini\n"
     ]
    },
    {
     "name": "stdout",
     "output_type": "stream",
     "text": [
      "\n",
      "\n",
      "\u001b[1m\u001b[95m# Agent:\u001b[00m \u001b[1m\u001b[92mTask Definer and Populator\u001b[00m\n",
      "\u001b[95m## Final Answer:\u001b[00m \u001b[92m\n",
      "{\n",
      "  \"task\": \"getAccountInfo\",\n",
      "  \"data\": {\n",
      "    \"jsonrpc\": \"2.0\",\n",
      "    \"id\": 1,\n",
      "    \"method\": \"getAccountInfo\",\n",
      "    \"params\": [\"hide2jJRvN58wfCr4frtdEwULWPK3dQ92ewqbxgJnEL\", {\"encoding\": \"base64\"}]\n",
      "  }\n",
      "}\u001b[00m\n",
      "\n",
      "\n",
      "\u001b[1m\u001b[95m# Agent:\u001b[00m \u001b[1m\u001b[92mBlockchain Information Retreiver\u001b[00m\n",
      "\u001b[95m## Task:\u001b[00m \u001b[92mFetch the details of the given address on the blockchain and convert the balance into SOL and check if the SOL is greater than 0.\u001b[00m\n"
     ]
    },
    {
     "name": "stderr",
     "output_type": "stream",
     "text": [
      "\u001b[92m14:45:37 - LiteLLM:INFO\u001b[0m: utils.py:949 - Wrapper: Completed Call, calling success_handler\n",
      "\u001b[92m14:45:37 - LiteLLM:INFO\u001b[0m: utils.py:2802 - \n",
      "LiteLLM completion() model= gemini-1.5-flash; provider = gemini\n"
     ]
    },
    {
     "name": "stdout",
     "output_type": "stream",
     "text": [
      "\n",
      "\n",
      "\u001b[1m\u001b[95m# Agent:\u001b[00m \u001b[1m\u001b[92mBlockchain Information Retreiver\u001b[00m\n",
      "\u001b[95m## Thought:\u001b[00m \u001b[92mThought:I need to use the Wrapper API to fetch the account information using the provided parameters.  Then I'll extract the balance, convert it to SOL, check if it's greater than 0, and construct the final answer.\u001b[00m\n",
      "\u001b[95m## Using tool:\u001b[00m \u001b[92mWrapper API\u001b[00m\n",
      "\u001b[95m## Tool Input:\u001b[00m \u001b[92m\n",
      "\"{\\\"data\\\": {\\\"jsonrpc\\\": \\\"2.0\\\", \\\"id\\\": 1, \\\"method\\\": \\\"getAccountInfo\\\", \\\"params\\\": [\\\"hide2jJRvN58wfCr4frtdEwULWPK3dQ92ewqbxgJnEL\\\", {\\\"encoding\\\": \\\"base64\\\"}]}}\"\u001b[00m\n",
      "\u001b[95m## Tool Output:\u001b[00m \u001b[92m\n",
      "{'jsonrpc': '2.0', 'result': {'context': {'apiVersion': '2.1.8', 'slot': 314382693}, 'value': {'data': ['', 'base64'], 'executable': False, 'lamports': 14639420117, 'owner': '11111111111111111111111111111111', 'rentEpoch': 18446744073709551615, 'space': 0}}, 'id': 1}\u001b[00m\n"
     ]
    },
    {
     "name": "stderr",
     "output_type": "stream",
     "text": [
      "\u001b[92m14:45:39 - LiteLLM:INFO\u001b[0m: utils.py:949 - Wrapper: Completed Call, calling success_handler\n"
     ]
    },
    {
     "name": "stdout",
     "output_type": "stream",
     "text": [
      "\n",
      "\n",
      "\u001b[1m\u001b[95m# Agent:\u001b[00m \u001b[1m\u001b[92mBlockchain Information Retreiver\u001b[00m\n",
      "\u001b[95m## Final Answer:\u001b[00m \u001b[92m\n",
      "{'Balance': 14.639420117, 'address': 'hide2jJRvN58wfCr4frtdEwULWPK3dQ92ewqbxgJnEL', 'space occupied by the data': 0, 'SOL balance greater than 0': True}\u001b[00m\n",
      "\n",
      "\n"
     ]
    }
   ],
   "source": [
    "crew = Crew(\n",
    "    agents=[task_define],\n",
    "    tasks=[get_task],\n",
    "    verbose=True,\n",
    ")\n",
    "\n",
    "result = crew.kickoff(inputs={\"text\":\"Get me the details for hide2jJRvN58wfCr4frtdEwULWPK3dQ92ewqbxgJnEL\", \"task_params_map\": task_params_map})\n",
    "\n",
    "# crew2 = Crew(\n",
    "#     agents=[informant],\n",
    "#     tasks=[getContractMetadata, getGasPrices, getTransactionDetails, getHealth, getAccountInfo],\n",
    "#     verbose=True,\n",
    "# )\n",
    "\n",
    "second_agent_tasks = {\n",
    "    \"getContractMetadata\" : getContractMetadata,\n",
    "    \"getGasPrices\" : getGasPrices,\n",
    "    \"getTransactionDetails\" : getTransactionDetails,\n",
    "    \"getHealth\" : getHealth,\n",
    "    \"getAccountInfo\" : getAccountInfo\n",
    "}\n",
    "\n",
    "if result['task'] in second_agent_tasks:\n",
    "    second_task = second_agent_tasks[result['task']]\n",
    "    crew = Crew(agents=[informant], tasks=[second_task], verbose=True)\n",
    "    final_result = crew.kickoff(inputs={\"data\": result['data']})"
   ]
  }
 ],
 "metadata": {
  "kaggle": {
   "accelerator": "none",
   "dataSources": [],
   "dockerImageVersionId": 30822,
   "isGpuEnabled": false,
   "isInternetEnabled": true,
   "language": "python",
   "sourceType": "notebook"
  },
  "kernelspec": {
   "display_name": "Python 3",
   "language": "python",
   "name": "python3"
  },
  "language_info": {
   "codemirror_mode": {
    "name": "ipython",
    "version": 3
   },
   "file_extension": ".py",
   "mimetype": "text/x-python",
   "name": "python",
   "nbconvert_exporter": "python",
   "pygments_lexer": "ipython3",
   "version": "3.10.12"
  }
 },
 "nbformat": 4,
 "nbformat_minor": 4
}
